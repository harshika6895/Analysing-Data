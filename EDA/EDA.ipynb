{
 "cells": [
  {
   "cell_type": "markdown",
   "id": "731f8474-9e1b-4ca5-b85c-82306b6ecf5b",
   "metadata": {},
   "source": [
    "Exploratory Data Analysis is to be done at the start of every Data Science Project. It Involves thoroughly examining and characterizing the data in order to find its underlying characteristics, possible anomalies and hidden patterns and relationships. This understanding of your data will guide you through your machine learning pipeline from data preprocessing to model building and analysis of results."
   ]
  },
  {
   "cell_type": "markdown",
   "id": "681ce8a7-d59e-4640-85fb-e6d9e47e6777",
   "metadata": {},
   "source": [
    "The Three main tasks of EDA:\n",
    "\n",
    "1)Dataset overview and Descriptive Statisitcs\n",
    "\n",
    "2)Feature assessment and visualization \n",
    "\n",
    "3)Data Quality Evaluation \n",
    "\n",
    "We are using Adult Census Income Dataset available on Kaggle."
   ]
  },
  {
   "cell_type": "markdown",
   "id": "417270c2-3a8d-4874-9a87-4397abea9483",
   "metadata": {},
   "source": [
    "Step 1: Data overview for better understanding of our data"
   ]
  },
  {
   "cell_type": "code",
   "execution_count": 5,
   "id": "2868d7b5-e6e9-43e9-b3f2-3c9e3ef15d48",
   "metadata": {
    "tags": []
   },
   "outputs": [
    {
     "data": {
      "text/html": [
       "<div>\n",
       "<style scoped>\n",
       "    .dataframe tbody tr th:only-of-type {\n",
       "        vertical-align: middle;\n",
       "    }\n",
       "\n",
       "    .dataframe tbody tr th {\n",
       "        vertical-align: top;\n",
       "    }\n",
       "\n",
       "    .dataframe thead th {\n",
       "        text-align: right;\n",
       "    }\n",
       "</style>\n",
       "<table border=\"1\" class=\"dataframe\">\n",
       "  <thead>\n",
       "    <tr style=\"text-align: right;\">\n",
       "      <th></th>\n",
       "      <th>age</th>\n",
       "      <th>workclass</th>\n",
       "      <th>fnlwgt</th>\n",
       "      <th>education</th>\n",
       "      <th>education.num</th>\n",
       "      <th>marital.status</th>\n",
       "      <th>occupation</th>\n",
       "      <th>relationship</th>\n",
       "      <th>race</th>\n",
       "      <th>sex</th>\n",
       "      <th>capital.gain</th>\n",
       "      <th>capital.loss</th>\n",
       "      <th>hours.per.week</th>\n",
       "      <th>native.country</th>\n",
       "      <th>income</th>\n",
       "    </tr>\n",
       "  </thead>\n",
       "  <tbody>\n",
       "    <tr>\n",
       "      <th>0</th>\n",
       "      <td>90</td>\n",
       "      <td>?</td>\n",
       "      <td>77053</td>\n",
       "      <td>HS-grad</td>\n",
       "      <td>9</td>\n",
       "      <td>Widowed</td>\n",
       "      <td>?</td>\n",
       "      <td>Not-in-family</td>\n",
       "      <td>White</td>\n",
       "      <td>Female</td>\n",
       "      <td>0</td>\n",
       "      <td>4356</td>\n",
       "      <td>40</td>\n",
       "      <td>United-States</td>\n",
       "      <td>&lt;=50K</td>\n",
       "    </tr>\n",
       "    <tr>\n",
       "      <th>1</th>\n",
       "      <td>82</td>\n",
       "      <td>Private</td>\n",
       "      <td>132870</td>\n",
       "      <td>HS-grad</td>\n",
       "      <td>9</td>\n",
       "      <td>Widowed</td>\n",
       "      <td>Exec-managerial</td>\n",
       "      <td>Not-in-family</td>\n",
       "      <td>White</td>\n",
       "      <td>Female</td>\n",
       "      <td>0</td>\n",
       "      <td>4356</td>\n",
       "      <td>18</td>\n",
       "      <td>United-States</td>\n",
       "      <td>&lt;=50K</td>\n",
       "    </tr>\n",
       "    <tr>\n",
       "      <th>2</th>\n",
       "      <td>66</td>\n",
       "      <td>?</td>\n",
       "      <td>186061</td>\n",
       "      <td>Some-college</td>\n",
       "      <td>10</td>\n",
       "      <td>Widowed</td>\n",
       "      <td>?</td>\n",
       "      <td>Unmarried</td>\n",
       "      <td>Black</td>\n",
       "      <td>Female</td>\n",
       "      <td>0</td>\n",
       "      <td>4356</td>\n",
       "      <td>40</td>\n",
       "      <td>United-States</td>\n",
       "      <td>&lt;=50K</td>\n",
       "    </tr>\n",
       "    <tr>\n",
       "      <th>3</th>\n",
       "      <td>54</td>\n",
       "      <td>Private</td>\n",
       "      <td>140359</td>\n",
       "      <td>7th-8th</td>\n",
       "      <td>4</td>\n",
       "      <td>Divorced</td>\n",
       "      <td>Machine-op-inspct</td>\n",
       "      <td>Unmarried</td>\n",
       "      <td>White</td>\n",
       "      <td>Female</td>\n",
       "      <td>0</td>\n",
       "      <td>3900</td>\n",
       "      <td>40</td>\n",
       "      <td>United-States</td>\n",
       "      <td>&lt;=50K</td>\n",
       "    </tr>\n",
       "    <tr>\n",
       "      <th>4</th>\n",
       "      <td>41</td>\n",
       "      <td>Private</td>\n",
       "      <td>264663</td>\n",
       "      <td>Some-college</td>\n",
       "      <td>10</td>\n",
       "      <td>Separated</td>\n",
       "      <td>Prof-specialty</td>\n",
       "      <td>Own-child</td>\n",
       "      <td>White</td>\n",
       "      <td>Female</td>\n",
       "      <td>0</td>\n",
       "      <td>3900</td>\n",
       "      <td>40</td>\n",
       "      <td>United-States</td>\n",
       "      <td>&lt;=50K</td>\n",
       "    </tr>\n",
       "  </tbody>\n",
       "</table>\n",
       "</div>"
      ],
      "text/plain": [
       "   age workclass  fnlwgt     education  education.num marital.status  \\\n",
       "0   90         ?   77053       HS-grad              9        Widowed   \n",
       "1   82   Private  132870       HS-grad              9        Widowed   \n",
       "2   66         ?  186061  Some-college             10        Widowed   \n",
       "3   54   Private  140359       7th-8th              4       Divorced   \n",
       "4   41   Private  264663  Some-college             10      Separated   \n",
       "\n",
       "          occupation   relationship   race     sex  capital.gain  \\\n",
       "0                  ?  Not-in-family  White  Female             0   \n",
       "1    Exec-managerial  Not-in-family  White  Female             0   \n",
       "2                  ?      Unmarried  Black  Female             0   \n",
       "3  Machine-op-inspct      Unmarried  White  Female             0   \n",
       "4     Prof-specialty      Own-child  White  Female             0   \n",
       "\n",
       "   capital.loss  hours.per.week native.country income  \n",
       "0          4356              40  United-States  <=50K  \n",
       "1          4356              18  United-States  <=50K  \n",
       "2          4356              40  United-States  <=50K  \n",
       "3          3900              40  United-States  <=50K  \n",
       "4          3900              40  United-States  <=50K  "
      ]
     },
     "execution_count": 5,
     "metadata": {},
     "output_type": "execute_result"
    }
   ],
   "source": [
    "import pandas as pd\n",
    "\n",
    "adult_income = pd.read_csv('adult.csv')\n",
    "adult_income.head()"
   ]
  },
  {
   "cell_type": "code",
   "execution_count": 9,
   "id": "b390a425-5902-4c2b-bf67-2c7484795ce0",
   "metadata": {
    "tags": []
   },
   "outputs": [
    {
     "data": {
      "text/plain": [
       "(32561, 15)"
      ]
     },
     "execution_count": 9,
     "metadata": {},
     "output_type": "execute_result"
    }
   ],
   "source": [
    "adult_income.shape #to find the no.of rows and columns\n"
   ]
  },
  {
   "cell_type": "code",
   "execution_count": 8,
   "id": "d8bc7e85-b6e2-4509-ab5b-faabf2eed098",
   "metadata": {
    "tags": []
   },
   "outputs": [
    {
     "data": {
      "text/plain": [
       "age                int64\n",
       "workclass         object\n",
       "fnlwgt             int64\n",
       "education         object\n",
       "education.num      int64\n",
       "marital.status    object\n",
       "occupation        object\n",
       "relationship      object\n",
       "race              object\n",
       "sex               object\n",
       "capital.gain       int64\n",
       "capital.loss       int64\n",
       "hours.per.week     int64\n",
       "native.country    object\n",
       "income            object\n",
       "dtype: object"
      ]
     },
     "execution_count": 8,
     "metadata": {},
     "output_type": "execute_result"
    }
   ],
   "source": [
    "adult_income.dtypes #to find the datatypes for every columns"
   ]
  },
  {
   "cell_type": "code",
   "execution_count": 10,
   "id": "78fd46cf-72b8-476d-9f4d-0c2004389c1d",
   "metadata": {
    "tags": []
   },
   "outputs": [
    {
     "data": {
      "text/plain": [
       "0        False\n",
       "1        False\n",
       "2        False\n",
       "3        False\n",
       "4        False\n",
       "         ...  \n",
       "32556    False\n",
       "32557    False\n",
       "32558    False\n",
       "32559    False\n",
       "32560    False\n",
       "Length: 32561, dtype: bool"
      ]
     },
     "execution_count": 10,
     "metadata": {},
     "output_type": "execute_result"
    }
   ],
   "source": [
    "adult_income.duplicated()  #to check whether there is any duplicate"
   ]
  },
  {
   "cell_type": "code",
   "execution_count": 11,
   "id": "766f339d-b47f-46b2-86ef-835656217b49",
   "metadata": {
    "tags": []
   },
   "outputs": [
    {
     "data": {
      "text/plain": [
       "age               0\n",
       "workclass         0\n",
       "fnlwgt            0\n",
       "education         0\n",
       "education.num     0\n",
       "marital.status    0\n",
       "occupation        0\n",
       "relationship      0\n",
       "race              0\n",
       "sex               0\n",
       "capital.gain      0\n",
       "capital.loss      0\n",
       "hours.per.week    0\n",
       "native.country    0\n",
       "income            0\n",
       "dtype: int64"
      ]
     },
     "execution_count": 11,
     "metadata": {},
     "output_type": "execute_result"
    }
   ],
   "source": [
    "adult_income.isna().sum() #missing values per feature"
   ]
  },
  {
   "cell_type": "code",
   "execution_count": 12,
   "id": "d4f0752d-ebf2-42b4-9d64-8e6fa785f9d5",
   "metadata": {
    "tags": []
   },
   "outputs": [
    {
     "data": {
      "text/plain": [
       "0"
      ]
     },
     "execution_count": 12,
     "metadata": {},
     "output_type": "execute_result"
    }
   ],
   "source": [
    "adult_income.isna().sum().sum() # number of missing cells"
   ]
  },
  {
   "cell_type": "code",
   "execution_count": 13,
   "id": "d55820e0-ae16-4751-a51e-631537d410d0",
   "metadata": {
    "tags": []
   },
   "outputs": [
    {
     "data": {
      "text/html": [
       "<div>\n",
       "<style scoped>\n",
       "    .dataframe tbody tr th:only-of-type {\n",
       "        vertical-align: middle;\n",
       "    }\n",
       "\n",
       "    .dataframe tbody tr th {\n",
       "        vertical-align: top;\n",
       "    }\n",
       "\n",
       "    .dataframe thead th {\n",
       "        text-align: right;\n",
       "    }\n",
       "</style>\n",
       "<table border=\"1\" class=\"dataframe\">\n",
       "  <thead>\n",
       "    <tr style=\"text-align: right;\">\n",
       "      <th></th>\n",
       "      <th>age</th>\n",
       "      <th>fnlwgt</th>\n",
       "      <th>education.num</th>\n",
       "      <th>capital.gain</th>\n",
       "      <th>capital.loss</th>\n",
       "      <th>hours.per.week</th>\n",
       "    </tr>\n",
       "  </thead>\n",
       "  <tbody>\n",
       "    <tr>\n",
       "      <th>count</th>\n",
       "      <td>32561.000000</td>\n",
       "      <td>3.256100e+04</td>\n",
       "      <td>32561.000000</td>\n",
       "      <td>32561.000000</td>\n",
       "      <td>32561.000000</td>\n",
       "      <td>32561.000000</td>\n",
       "    </tr>\n",
       "    <tr>\n",
       "      <th>mean</th>\n",
       "      <td>38.581647</td>\n",
       "      <td>1.897784e+05</td>\n",
       "      <td>10.080679</td>\n",
       "      <td>1077.648844</td>\n",
       "      <td>87.303830</td>\n",
       "      <td>40.437456</td>\n",
       "    </tr>\n",
       "    <tr>\n",
       "      <th>std</th>\n",
       "      <td>13.640433</td>\n",
       "      <td>1.055500e+05</td>\n",
       "      <td>2.572720</td>\n",
       "      <td>7385.292085</td>\n",
       "      <td>402.960219</td>\n",
       "      <td>12.347429</td>\n",
       "    </tr>\n",
       "    <tr>\n",
       "      <th>min</th>\n",
       "      <td>17.000000</td>\n",
       "      <td>1.228500e+04</td>\n",
       "      <td>1.000000</td>\n",
       "      <td>0.000000</td>\n",
       "      <td>0.000000</td>\n",
       "      <td>1.000000</td>\n",
       "    </tr>\n",
       "    <tr>\n",
       "      <th>25%</th>\n",
       "      <td>28.000000</td>\n",
       "      <td>1.178270e+05</td>\n",
       "      <td>9.000000</td>\n",
       "      <td>0.000000</td>\n",
       "      <td>0.000000</td>\n",
       "      <td>40.000000</td>\n",
       "    </tr>\n",
       "    <tr>\n",
       "      <th>50%</th>\n",
       "      <td>37.000000</td>\n",
       "      <td>1.783560e+05</td>\n",
       "      <td>10.000000</td>\n",
       "      <td>0.000000</td>\n",
       "      <td>0.000000</td>\n",
       "      <td>40.000000</td>\n",
       "    </tr>\n",
       "    <tr>\n",
       "      <th>75%</th>\n",
       "      <td>48.000000</td>\n",
       "      <td>2.370510e+05</td>\n",
       "      <td>12.000000</td>\n",
       "      <td>0.000000</td>\n",
       "      <td>0.000000</td>\n",
       "      <td>45.000000</td>\n",
       "    </tr>\n",
       "    <tr>\n",
       "      <th>max</th>\n",
       "      <td>90.000000</td>\n",
       "      <td>1.484705e+06</td>\n",
       "      <td>16.000000</td>\n",
       "      <td>99999.000000</td>\n",
       "      <td>4356.000000</td>\n",
       "      <td>99.000000</td>\n",
       "    </tr>\n",
       "  </tbody>\n",
       "</table>\n",
       "</div>"
      ],
      "text/plain": [
       "                age        fnlwgt  education.num  capital.gain  capital.loss  \\\n",
       "count  32561.000000  3.256100e+04   32561.000000  32561.000000  32561.000000   \n",
       "mean      38.581647  1.897784e+05      10.080679   1077.648844     87.303830   \n",
       "std       13.640433  1.055500e+05       2.572720   7385.292085    402.960219   \n",
       "min       17.000000  1.228500e+04       1.000000      0.000000      0.000000   \n",
       "25%       28.000000  1.178270e+05       9.000000      0.000000      0.000000   \n",
       "50%       37.000000  1.783560e+05      10.000000      0.000000      0.000000   \n",
       "75%       48.000000  2.370510e+05      12.000000      0.000000      0.000000   \n",
       "max       90.000000  1.484705e+06      16.000000  99999.000000   4356.000000   \n",
       "\n",
       "       hours.per.week  \n",
       "count    32561.000000  \n",
       "mean        40.437456  \n",
       "std         12.347429  \n",
       "min          1.000000  \n",
       "25%         40.000000  \n",
       "50%         40.000000  \n",
       "75%         45.000000  \n",
       "max         99.000000  "
      ]
     },
     "execution_count": 13,
     "metadata": {},
     "output_type": "execute_result"
    }
   ],
   "source": [
    "adult_income.describe()"
   ]
  },
  {
   "cell_type": "code",
   "execution_count": 14,
   "id": "15f71b15-2e90-4ff3-a6ca-e787266ab038",
   "metadata": {
    "tags": []
   },
   "outputs": [
    {
     "data": {
      "text/html": [
       "<div>\n",
       "<style scoped>\n",
       "    .dataframe tbody tr th:only-of-type {\n",
       "        vertical-align: middle;\n",
       "    }\n",
       "\n",
       "    .dataframe tbody tr th {\n",
       "        vertical-align: top;\n",
       "    }\n",
       "\n",
       "    .dataframe thead th {\n",
       "        text-align: right;\n",
       "    }\n",
       "</style>\n",
       "<table border=\"1\" class=\"dataframe\">\n",
       "  <thead>\n",
       "    <tr style=\"text-align: right;\">\n",
       "      <th></th>\n",
       "      <th>workclass</th>\n",
       "      <th>education</th>\n",
       "      <th>marital.status</th>\n",
       "      <th>occupation</th>\n",
       "      <th>relationship</th>\n",
       "      <th>race</th>\n",
       "      <th>sex</th>\n",
       "      <th>native.country</th>\n",
       "      <th>income</th>\n",
       "    </tr>\n",
       "  </thead>\n",
       "  <tbody>\n",
       "    <tr>\n",
       "      <th>count</th>\n",
       "      <td>32561</td>\n",
       "      <td>32561</td>\n",
       "      <td>32561</td>\n",
       "      <td>32561</td>\n",
       "      <td>32561</td>\n",
       "      <td>32561</td>\n",
       "      <td>32561</td>\n",
       "      <td>32561</td>\n",
       "      <td>32561</td>\n",
       "    </tr>\n",
       "    <tr>\n",
       "      <th>unique</th>\n",
       "      <td>9</td>\n",
       "      <td>16</td>\n",
       "      <td>7</td>\n",
       "      <td>15</td>\n",
       "      <td>6</td>\n",
       "      <td>5</td>\n",
       "      <td>2</td>\n",
       "      <td>42</td>\n",
       "      <td>2</td>\n",
       "    </tr>\n",
       "    <tr>\n",
       "      <th>top</th>\n",
       "      <td>Private</td>\n",
       "      <td>HS-grad</td>\n",
       "      <td>Married-civ-spouse</td>\n",
       "      <td>Prof-specialty</td>\n",
       "      <td>Husband</td>\n",
       "      <td>White</td>\n",
       "      <td>Male</td>\n",
       "      <td>United-States</td>\n",
       "      <td>&lt;=50K</td>\n",
       "    </tr>\n",
       "    <tr>\n",
       "      <th>freq</th>\n",
       "      <td>22696</td>\n",
       "      <td>10501</td>\n",
       "      <td>14976</td>\n",
       "      <td>4140</td>\n",
       "      <td>13193</td>\n",
       "      <td>27816</td>\n",
       "      <td>21790</td>\n",
       "      <td>29170</td>\n",
       "      <td>24720</td>\n",
       "    </tr>\n",
       "  </tbody>\n",
       "</table>\n",
       "</div>"
      ],
      "text/plain": [
       "       workclass education      marital.status      occupation relationship  \\\n",
       "count      32561     32561               32561           32561        32561   \n",
       "unique         9        16                   7              15            6   \n",
       "top      Private   HS-grad  Married-civ-spouse  Prof-specialty      Husband   \n",
       "freq       22696     10501               14976            4140        13193   \n",
       "\n",
       "         race    sex native.country income  \n",
       "count   32561  32561          32561  32561  \n",
       "unique      5      2             42      2  \n",
       "top     White   Male  United-States  <=50K  \n",
       "freq    27816  21790          29170  24720  "
      ]
     },
     "execution_count": 14,
     "metadata": {},
     "output_type": "execute_result"
    }
   ],
   "source": [
    "adult_income.describe(include='object') #for non numeric values"
   ]
  },
  {
   "cell_type": "code",
   "execution_count": 15,
   "id": "2c4bded8-9fb9-4546-8fee-204cabf04b65",
   "metadata": {
    "tags": []
   },
   "outputs": [
    {
     "name": "stdout",
     "output_type": "stream",
     "text": [
      "workclass\n",
      "?                    1836\n",
      "Federal-gov           960\n",
      "Local-gov            2093\n",
      "Never-worked            7\n",
      "Private             22696\n",
      "Self-emp-inc         1116\n",
      "Self-emp-not-inc     2541\n",
      "State-gov            1298\n",
      "Without-pay            14\n",
      "dtype: int64\n",
      "education\n",
      "10th              933\n",
      "11th             1175\n",
      "12th              433\n",
      "1st-4th           168\n",
      "5th-6th           333\n",
      "7th-8th           646\n",
      "9th               514\n",
      "Assoc-acdm       1067\n",
      "Assoc-voc        1382\n",
      "Bachelors        5355\n",
      "Doctorate         413\n",
      "HS-grad         10501\n",
      "Masters          1723\n",
      "Preschool          51\n",
      "Prof-school       576\n",
      "Some-college     7291\n",
      "dtype: int64\n",
      "education.num\n",
      "1        51\n",
      "2       168\n",
      "3       333\n",
      "4       646\n",
      "5       514\n",
      "6       933\n",
      "7      1175\n",
      "8       433\n",
      "9     10501\n",
      "10     7291\n",
      "11     1382\n",
      "12     1067\n",
      "13     5355\n",
      "14     1723\n",
      "15      576\n",
      "16      413\n",
      "dtype: int64\n",
      "marital.status\n",
      "Divorced                  4443\n",
      "Married-AF-spouse           23\n",
      "Married-civ-spouse       14976\n",
      "Married-spouse-absent      418\n",
      "Never-married            10683\n",
      "Separated                 1025\n",
      "Widowed                    993\n",
      "dtype: int64\n",
      "occupation\n",
      "?                    1843\n",
      "Adm-clerical         3770\n",
      "Armed-Forces            9\n",
      "Craft-repair         4099\n",
      "Exec-managerial      4066\n",
      "Farming-fishing       994\n",
      "Handlers-cleaners    1370\n",
      "Machine-op-inspct    2002\n",
      "Other-service        3295\n",
      "Priv-house-serv       149\n",
      "Prof-specialty       4140\n",
      "Protective-serv       649\n",
      "Sales                3650\n",
      "Tech-support          928\n",
      "Transport-moving     1597\n",
      "dtype: int64\n",
      "relationship\n",
      "Husband           13193\n",
      "Not-in-family      8305\n",
      "Other-relative      981\n",
      "Own-child          5068\n",
      "Unmarried          3446\n",
      "Wife               1568\n",
      "dtype: int64\n",
      "race\n",
      "Amer-Indian-Eskimo      311\n",
      "Asian-Pac-Islander     1039\n",
      "Black                  3124\n",
      "Other                   271\n",
      "White                 27816\n",
      "dtype: int64\n",
      "sex\n",
      "Female    10771\n",
      "Male      21790\n",
      "dtype: int64\n",
      "native.country\n",
      "?                               583\n",
      "Cambodia                         19\n",
      "Canada                          121\n",
      "China                            75\n",
      "Columbia                         59\n",
      "Cuba                             95\n",
      "Dominican-Republic               70\n",
      "Ecuador                          28\n",
      "El-Salvador                     106\n",
      "England                          90\n",
      "France                           29\n",
      "Germany                         137\n",
      "Greece                           29\n",
      "Guatemala                        64\n",
      "Haiti                            44\n",
      "Holand-Netherlands                1\n",
      "Honduras                         13\n",
      "Hong                             20\n",
      "Hungary                          13\n",
      "India                           100\n",
      "Iran                             43\n",
      "Ireland                          24\n",
      "Italy                            73\n",
      "Jamaica                          81\n",
      "Japan                            62\n",
      "Laos                             18\n",
      "Mexico                          643\n",
      "Nicaragua                        34\n",
      "Outlying-US(Guam-USVI-etc)       14\n",
      "Peru                             31\n",
      "Philippines                     198\n",
      "Poland                           60\n",
      "Portugal                         37\n",
      "Puerto-Rico                     114\n",
      "Scotland                         12\n",
      "South                            80\n",
      "Taiwan                           51\n",
      "Thailand                         18\n",
      "Trinadad&Tobago                  19\n",
      "United-States                 29170\n",
      "Vietnam                          67\n",
      "Yugoslavia                       16\n",
      "dtype: int64\n",
      "income\n",
      "<=50K    24720\n",
      ">50K      7841\n",
      "dtype: int64\n"
     ]
    }
   ],
   "source": [
    "cols = ['workclass','education','education.num','marital.status','occupation','relationship','race','sex','native.country','income']\n",
    "\n",
    "for col in cols:\n",
    "    categories = adult_income.groupby(col).size()\n",
    "    print(categories)\n",
    "    "
   ]
  },
  {
   "cell_type": "markdown",
   "id": "80bca40e-47c4-48f3-ad5d-2f4a50b81739",
   "metadata": {},
   "source": [
    "All of these EDA tasks and more can be done by a single line of code using ydata-profiling"
   ]
  },
  {
   "cell_type": "code",
   "execution_count": 18,
   "id": "2a6a9159-46ce-4667-831a-59169591cfae",
   "metadata": {
    "tags": []
   },
   "outputs": [],
   "source": [
    "from ydata_profiling import ProfileReport"
   ]
  },
  {
   "cell_type": "code",
   "execution_count": 19,
   "id": "ac6259e3-123d-4a66-9252-0a5451af7c3b",
   "metadata": {
    "tags": []
   },
   "outputs": [
    {
     "data": {
      "application/vnd.jupyter.widget-view+json": {
       "model_id": "0d2beaab4dcc4bebb2cf502e2c12fc5a",
       "version_major": 2,
       "version_minor": 0
      },
      "text/plain": [
       "Summarize dataset:   0%|          | 0/5 [00:00<?, ?it/s]"
      ]
     },
     "metadata": {},
     "output_type": "display_data"
    },
    {
     "data": {
      "application/vnd.jupyter.widget-view+json": {
       "model_id": "9eae8a4d2e534c0f9ac41a1a4986b0a6",
       "version_major": 2,
       "version_minor": 0
      },
      "text/plain": [
       "Generate report structure:   0%|          | 0/1 [00:00<?, ?it/s]"
      ]
     },
     "metadata": {},
     "output_type": "display_data"
    },
    {
     "data": {
      "application/vnd.jupyter.widget-view+json": {
       "model_id": "003ea207808b4c33a930d451c3955c7f",
       "version_major": 2,
       "version_minor": 0
      },
      "text/plain": [
       "Render HTML:   0%|          | 0/1 [00:00<?, ?it/s]"
      ]
     },
     "metadata": {},
     "output_type": "display_data"
    },
    {
     "data": {
      "application/vnd.jupyter.widget-view+json": {
       "model_id": "00c2f588c3784d85b01b68e3f678d6d3",
       "version_major": 2,
       "version_minor": 0
      },
      "text/plain": [
       "Export report to file:   0%|          | 0/1 [00:00<?, ?it/s]"
      ]
     },
     "metadata": {},
     "output_type": "display_data"
    }
   ],
   "source": [
    "#generate the report \n",
    "profile = ProfileReport(adult_income, title=\"Adult Census Profile\")\n",
    "\n",
    "#save the report to .html\n",
    "profile.to_file(\"adult_report.html\")"
   ]
  },
  {
   "cell_type": "markdown",
   "id": "f953411c-247c-407f-b765-5317be41d043",
   "metadata": {},
   "source": [
    "Step 2: Feature Assessment and visualization\n",
    "\n",
    "So after having a look at the overall description od our Data, we are required to get into our dataset features a little more so that we can get insights on their individual properties which is called \"Univariate Analysis\" and their interactions and relationships with eachother called \" Multivariate Analysis\". Both of these tasks are accomplished by investigating adequate statisitcs and visualizations which are selected on the basis of the type of features and their behaviour we are interested to dissect."
   ]
  },
  {
   "cell_type": "markdown",
   "id": "62a0959f-234e-40bd-a7d6-945db82f474a",
   "metadata": {},
   "source": [
    "UNIVARIATE ANALYSIS : This type of indiviual analysis is required to understand each feature to decide their relevance for the analysis and also the the type of data preparation which is required to achieve more optimal results\n",
    "\n",
    "This will highlight the need of subsequent tasks of outliers removal, standardization, label encoding, data imputation, data augmentation and other type of preprocessing"
   ]
  },
  {
   "cell_type": "markdown",
   "id": "fc1bb7c1-ddac-4739-bbc5-fcc7390cfa31",
   "metadata": {},
   "source": [
    "Capital.gain analysis - on analysing capital.gain we found that 91.7% values are 0 and therefore we might question that if the feature adds any value to our analysis "
   ]
  },
  {
   "cell_type": "markdown",
   "id": "7d190429-885f-4390-97e1-af098e93cccc",
   "metadata": {},
   "source": [
    "Race analysis - On anlysing race we found that their is a underrepresentation of races other than white and this brings 2 main issues in mind:\n",
    "\n",
    "1) The general tendency of machine learning algorithms is to ignore less represented concepts knowns as the problem of \"small disjuncts\" that leads to reduced learning performance\n",
    "\n",
    "2) Since race is a sensitive feature, this overlooking tendency may have consequences directly relating to bias and fairness issue which we dont want in our models\n",
    "\n",
    "Taking this into account we should consider performing data augmentation conditioned on the underrepresented categories and also considering fairness-aware metrics for model evaluation to check for any discrepanices in performance that relate to race values"
   ]
  },
  {
   "cell_type": "markdown",
   "id": "047ac10e-6e19-4a54-9b1b-2b71a8fa3e97",
   "metadata": {},
   "source": [
    "Now, different features types require different statistics and visualization strategies:\n",
    "\n",
    "Numeric features - best represented as histogram plots\n",
    "\n",
    "Object features - best represented as bar plots which is a cumbersome process if done individually but ydata-profiling covers all this for us in a single line of code"
   ]
  },
  {
   "cell_type": "markdown",
   "id": "9a8d1806-993b-420e-9711-528a90271fdd",
   "metadata": {},
   "source": [
    "MULTIVARIATE ANALYSIS: here we need to analyse the interaction and relationships between the features and anlysing their correlations\n",
    "\n",
    "Analysing interactions : how the values of one feature relate to the values of another feature. Eg Analysing the interaction between age and hours per week to notice that most of the people do a standard 40hrs per week of work but some of the people between the ages of 30 and 45 work past 40 hours per week \n",
    "\n",
    "Analysing correlations : correlations is also like interaction that is to understand the relation between two features but this puts a value on that relation to also understand the strength of that relationship. This strength is measure by correlation coefficient which can be calculated numerically or by a heat map which uses color density as the measure.\n",
    "\n",
    "On analysing the correlation for our dataset we see that there is a eye catchy correlation between sex and relationship which is not informative since if the sex is female the relationship would be wife and if male it would be husband thus there is a relation but these features are creating a redundancy and by understanding this redundancy using correlation we can remove some of these features. \n",
    "\n",
    "There are some other useful correlations also to analyse like for our dataset the corrleation between sex and occupation or sex and hours.per.week and also the correlation between income and all the other features is also very informative especially when if we are trying to map a classification problem."
   ]
  },
  {
   "cell_type": "markdown",
   "id": "1a7a2b5d-9e27-48bc-aa42-e648bee5e41e",
   "metadata": {},
   "source": [
    "Step 3 : Data Quality Evaluation\n",
    "\n",
    "There are some complicating factors, the errors that may occur during the collection of processing or data intrinsic charactersitics that are simply a reflection of the nature of the data. This includes the missing data, imbalanced data, constant values, duplicates, highly correlated or redundant features, noisy data etc.\n",
    "\n",
    "If these are not identified and addressed before the model building stage they can jeopardize the whole ML pipeline and the analyses and conclusions derived from it.\n",
    "\n",
    "To automate this process of identifying and addressing these issues ydata-profiling feature is appreciated, it generates the data quality alerts.\n",
    "\n",
    "The profile outputs atleast 5 different types of alerts: \n",
    "Duplicates, Zeros, High correlations, imbalance, missing.\n",
    "\n",
    "\n",
    "CONCLUSION :\n",
    "\n",
    "An efficient EDA lays the foundation of a successful machine learning pipeline. \n",
    "\n"
   ]
  }
 ],
 "metadata": {
  "kernelspec": {
   "display_name": "Python 3 (ipykernel)",
   "language": "python",
   "name": "python3"
  },
  "language_info": {
   "codemirror_mode": {
    "name": "ipython",
    "version": 3
   },
   "file_extension": ".py",
   "mimetype": "text/x-python",
   "name": "python",
   "nbconvert_exporter": "python",
   "pygments_lexer": "ipython3",
   "version": "3.11.5"
  }
 },
 "nbformat": 4,
 "nbformat_minor": 5
}
